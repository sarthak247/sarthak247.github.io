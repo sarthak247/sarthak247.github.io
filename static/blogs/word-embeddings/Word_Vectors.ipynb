{
  "nbformat": 4,
  "nbformat_minor": 0,
  "metadata": {
    "colab": {
      "provenance": []
    },
    "kernelspec": {
      "name": "python3",
      "display_name": "Python 3"
    },
    "language_info": {
      "name": "python"
    }
  },
  "cells": [
    {
      "cell_type": "code",
      "execution_count": null,
      "metadata": {
        "colab": {
          "base_uri": "https://localhost:8080/"
        },
        "id": "WHvbJOEqs_aF",
        "outputId": "879821b4-a085-426d-cef6-46a4006009d9"
      },
      "outputs": [
        {
          "output_type": "stream",
          "name": "stdout",
          "text": [
            "                                 fascinating  coding  programming  fun  love\n",
            "I love coding and coding is fun            0       1            0    1     1\n",
            "Programming is fascinating                 1       0            1    0     0\n"
          ]
        }
      ],
      "source": [
        "import pandas as pd\n",
        "\n",
        "# Define the sentences\n",
        "sentences = [\"I love coding and coding is fun\", \"Programming is fascinating\"]\n",
        "\n",
        "# Tokenize the sentences and build a vocabulary\n",
        "vocabulary = set(word for sentence in sentences for word in sentence.lower().split())\n",
        "\n",
        "# Remove Stop Words\n",
        "vocabulary.remove('is')\n",
        "vocabulary.remove('i')\n",
        "vocabulary.remove('and')\n",
        "\n",
        "vocabulary = list(vocabulary)\n",
        "\n",
        "\n",
        "# Create a DataFrame to display one-hot vectors\n",
        "one_hot_vectors = []\n",
        "for sentence in sentences:\n",
        "    one_hot_vector = [1 if word in sentence.lower().split() else 0 for word in vocabulary]\n",
        "    one_hot_vectors.append(one_hot_vector)\n",
        "\n",
        "# Create a DataFrame\n",
        "df = pd.DataFrame(one_hot_vectors, columns=vocabulary, index = sentences)\n",
        "\n",
        "# Display the DataFrame\n",
        "print(df)"
      ]
    },
    {
      "cell_type": "code",
      "source": [
        "vocabulary"
      ],
      "metadata": {
        "colab": {
          "base_uri": "https://localhost:8080/"
        },
        "id": "1HUfD-G3tAmz",
        "outputId": "06cd2d84-18f0-4911-8fce-9ccf3a4cdac0"
      },
      "execution_count": null,
      "outputs": [
        {
          "output_type": "execute_result",
          "data": {
            "text/plain": [
              "{'coding', 'fascinating', 'fun', 'i', 'love', 'programming'}"
            ]
          },
          "metadata": {},
          "execution_count": 5
        }
      ]
    },
    {
      "cell_type": "code",
      "source": [
        "from sklearn.feature_extraction.text import CountVectorizer\n",
        "\n",
        "# Create a CountVectorizer instance\n",
        "vectorizer = CountVectorizer()\n",
        "\n",
        "# Fit and transform the data\n",
        "X = vectorizer.fit_transform(sentences)\n",
        "\n",
        "# Get the feature names (vocabulary)\n",
        "feature_names = vectorizer.get_feature_names_out()\n",
        "\n",
        "# Create a DataFrame to display count vectors\n",
        "count_vectors = pd.DataFrame(X.toarray(), columns=feature_names, index = sentences)\n",
        "\n",
        "# Display the DataFrame\n",
        "print(count_vectors)"
      ],
      "metadata": {
        "colab": {
          "base_uri": "https://localhost:8080/"
        },
        "id": "uPvW3gLjtLEe",
        "outputId": "3392e4f4-579a-471f-849f-0256353c95cd"
      },
      "execution_count": null,
      "outputs": [
        {
          "output_type": "stream",
          "name": "stdout",
          "text": [
            "                                 and  coding  fascinating  fun  is  love  \\\n",
            "I love coding and coding is fun    1       2            0    1   1     1   \n",
            "Programming is fascinating         0       0            1    0   1     0   \n",
            "\n",
            "                                 programming  \n",
            "I love coding and coding is fun            0  \n",
            "Programming is fascinating                 1  \n"
          ]
        }
      ]
    },
    {
      "cell_type": "code",
      "source": [
        "from sklearn.feature_extraction.text import TfidfVectorizer\n",
        "\n",
        "# Sample text data\n",
        "documents = [\n",
        "    \"Machine learning is fascinating and challenging.\",\n",
        "    \"Natural language processing is a subfield of AI.\",\n",
        "    \"Machine learning and NLP are essential in data science.\"\n",
        "]\n",
        "\n",
        "# Create a TfidfVectorizer instance\n",
        "vectorizer = TfidfVectorizer()\n",
        "\n",
        "# Fit and transform the data\n",
        "X = vectorizer.fit_transform(documents)\n",
        "\n",
        "# Get the feature names (vocabulary)\n",
        "feature_names = vectorizer.get_feature_names_out()\n",
        "\n",
        "# Create a DataFrame to display TF-IDF vectors\n",
        "import pandas as pd\n",
        "# tfidf_vectors = pd.DataFrame(X.toarray(), columns=feature_names)\n",
        "tfidf_vectors = pd.DataFrame(X[0].T.todense(), columns = [\"TF-IDF\"],\n",
        "                             index = feature_names)\n",
        "tfidf_vectors = tfidf_vectors.sort_values('TF-IDF', ascending=False)\n",
        "# Display the TF-IDF vectors\n",
        "print(tfidf_vectors)\n"
      ],
      "metadata": {
        "id": "MtMISEJr4Y3G",
        "colab": {
          "base_uri": "https://localhost:8080/"
        },
        "outputId": "45a0ea34-2154-4604-cedd-851f1af1a897"
      },
      "execution_count": 4,
      "outputs": [
        {
          "output_type": "stream",
          "name": "stdout",
          "text": [
            "               TF-IDF\n",
            "challenging  0.481482\n",
            "fascinating  0.481482\n",
            "is           0.366180\n",
            "and          0.366180\n",
            "learning     0.366180\n",
            "machine      0.366180\n",
            "ai           0.000000\n",
            "natural      0.000000\n",
            "science      0.000000\n",
            "processing   0.000000\n",
            "of           0.000000\n",
            "nlp          0.000000\n",
            "language     0.000000\n",
            "in           0.000000\n",
            "essential    0.000000\n",
            "data         0.000000\n",
            "are          0.000000\n",
            "subfield     0.000000\n"
          ]
        }
      ]
    },
    {
      "cell_type": "code",
      "source": [],
      "metadata": {
        "id": "pnqmaOvg-OIi"
      },
      "execution_count": null,
      "outputs": []
    }
  ]
}